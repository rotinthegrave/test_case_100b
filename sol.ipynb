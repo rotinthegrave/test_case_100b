{
 "cells": [
  {
   "cell_type": "code",
   "execution_count": 8,
   "metadata": {},
   "outputs": [
    {
     "name": "stdout",
     "output_type": "stream",
     "text": [
      "7 37\n"
     ]
    },
    {
     "data": {
      "text/plain": [
       "37.142857142857146"
      ]
     },
     "execution_count": 8,
     "metadata": {},
     "output_type": "execute_result"
    }
   ],
   "source": [
    "file = open(\"17_easy.txt\")\n",
    "nums = [int(x) for x in file]\n",
    "\n",
    "passed = []\n",
    "not_passed = []\n",
    "for i in range(len(nums)):\n",
    "    if nums[i] >= 27:\n",
    "        passed.append(nums[i])\n",
    "    else:\n",
    "        not_passed.append(nums[i])\n",
    "\n",
    "print(len(not_passed),int(sum(passed)/len(passed)))\n"
   ]
  },
  {
   "cell_type": "code",
   "execution_count": 26,
   "metadata": {},
   "outputs": [
    {
     "name": "stdout",
     "output_type": "stream",
     "text": [
      "2 456987\n"
     ]
    }
   ],
   "source": [
    "file = open(\"17_medium.txt\")\n",
    "nums = [int(x) for x in file]\n",
    "\n",
    "itog = []\n",
    "for i in range(len(nums)-1):\n",
    "    a = str(nums[i])\n",
    "    b = str(nums[i+1])\n",
    "    if a[0]<a[1]<a[2] and b[0]>b[1]>b[2]:\n",
    "        itog.append(int(a+b))\n",
    "print(len(itog),max(itog))"
   ]
  },
  {
   "cell_type": "code",
   "execution_count": 36,
   "metadata": {},
   "outputs": [
    {
     "name": "stdout",
     "output_type": "stream",
     "text": [
      "2112 20\n"
     ]
    }
   ],
   "source": [
    "file = open(\"17_hard.txt\")\n",
    "nums = [int(x) for x in file]\n",
    "\n",
    "d = {}\n",
    "for i in nums:\n",
    "    if i not in d:\n",
    "        d[i] = nums.count(i)\n",
    "\n",
    "srt = sorted(d.items(), key=lambda item: item[1],reverse=True)[:5]\n",
    "team = [i[0] for i in srt]\n",
    "wins = [i[1] for i in srt]\n",
    "\n",
    "ans1 = max(team)+max([i for i in team if i!=max(team)])\n",
    "ans2 = sum(wins)\n",
    "\n",
    "print(ans1,ans2)\n"
   ]
  }
 ],
 "metadata": {
  "kernelspec": {
   "display_name": "venv",
   "language": "python",
   "name": "python3"
  },
  "language_info": {
   "codemirror_mode": {
    "name": "ipython",
    "version": 3
   },
   "file_extension": ".py",
   "mimetype": "text/x-python",
   "name": "python",
   "nbconvert_exporter": "python",
   "pygments_lexer": "ipython3",
   "version": "3.12.2"
  }
 },
 "nbformat": 4,
 "nbformat_minor": 2
}
